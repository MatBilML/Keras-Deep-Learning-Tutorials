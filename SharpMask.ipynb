{
 "cells": [
  {
   "cell_type": "code",
   "execution_count": 1,
   "metadata": {
    "collapsed": false
   },
   "outputs": [
    {
     "name": "stderr",
     "output_type": "stream",
     "text": [
      "Using TensorFlow backend.\n"
     ]
    }
   ],
   "source": [
    "from keras.layers import Input, Dense, Conv2D, MaxPooling2D, UpSampling2D,BatchNormalization,Flatten,Concatenate\n",
    "from keras.models import Model\n",
    "from keras import backend as K"
   ]
  },
  {
   "cell_type": "code",
   "execution_count": 2,
   "metadata": {
    "collapsed": true
   },
   "outputs": [],
   "source": [
    "input_img = Input(shape = (224,224,3))"
   ]
  },
  {
   "cell_type": "code",
   "execution_count": 3,
   "metadata": {
    "collapsed": true
   },
   "outputs": [],
   "source": [
    "def model(ip):\n",
    "    x1 = Conv2D(64,(3,3),activation = 'relu',padding = 'same')(ip)\n",
    "    x2 = BatchNormalization()(x1)\n",
    "    x3 = Conv2D(64,(3,3),activation = 'relu',padding = 'same')(x2)\n",
    "    x4 = BatchNormalization()(x3)\n",
    "    x5 = MaxPooling2D((2,2))(x4)\n",
    "    x6 = Conv2D(128,(3,3),activation = 'relu',padding = 'same')(x5)\n",
    "    x7 = BatchNormalization()(x6)\n",
    "    x8 = Conv2D(128,(3,3),activation = 'relu',padding = 'same')(x7)\n",
    "    x9 = BatchNormalization()(x8)\n",
    "    x10 = MaxPooling2D((2,2))(x9)\n",
    "    x11 = Conv2D(256,(3,3),activation = 'relu',padding = 'same')(x10)\n",
    "    x12 = BatchNormalization()(x11)\n",
    "    x13 = Conv2D(256,(3,3),activation = 'relu',padding = 'same')(x12)\n",
    "    x14 = BatchNormalization()(x13)\n",
    "    x15 = Conv2D(256,(3,3),activation = 'relu',padding = 'same')(x14)\n",
    "    x16 = BatchNormalization()(x15)\n",
    "    x17 = MaxPooling2D((2,2))(x16)\n",
    "    x18 = x17\n",
    "    x19 = Conv2D(512,(3,3),activation='relu',padding= 'same')(x18)\n",
    "    x20 = BatchNormalization()(x19)\n",
    "    x21 = Conv2D(512,(3,3),activation='relu',padding= 'same')(x20)\n",
    "    x22 = BatchNormalization()(x21)\n",
    "    x23 = Conv2D(512,(3,3),activation='relu',padding= 'same')(x22)\n",
    "    x24 = BatchNormalization()(x23)\n",
    "    x25 = MaxPooling2D((2,2))(x24)\n",
    "    x26 = Conv2D(512,(14,14),activation = 'relu')(x25)\n",
    "    print x26.shape\n",
    "    x27 = UpSampling2D((14,14))(x26)\n",
    "    print x27.shape\n",
    "    x28 = Conv2D(512,(3,3),activation = 'relu',padding = 'same')(x25)\n",
    "    x29 = Concatenate()([x28,x27])\n",
    "    x30 = Conv2D(512,(3,3),activation = 'relu',padding = 'same')(x29)\n",
    "    x31 = UpSampling2D((2,2))(x30)\n",
    "    x32 = Conv2D(512,(3,3),activation = 'relu',padding = 'same')(x17)\n",
    "    x33 = Concatenate()([x32,x31])\n",
    "    x34 = Conv2D(512,(3,3),activation = 'relu',padding = 'same')(x33)\n",
    "    x35 = UpSampling2D((2,2))(x34)\n",
    "    x36 = Conv2D(512,(3,3),activation = 'relu',padding = 'same')(x10)\n",
    "    x37 = Concatenate()([x35,x36])\n",
    "    x38 = Conv2D(512,(3,3),activation = 'relu',padding = 'same')(x37)\n",
    "    x39 = UpSampling2D((2,2))(x38)\n",
    "    x40 = Conv2D(512,(3,3),activation = 'relu',padding = 'same')(x5)\n",
    "    x41 = Concatenate()([x39,x40])\n",
    "    x42 = Conv2D(512,(3,3),activation = 'relu',padding = 'same')(x41)\n",
    "    x43 = UpSampling2D((2,2))(x42)\n",
    "    x44 = Conv2D(3,(1,1),activation = 'relu',padding = 'same')(x43)\n",
    "    return x44"
   ]
  },
  {
   "cell_type": "code",
   "execution_count": 4,
   "metadata": {
    "collapsed": false
   },
   "outputs": [
    {
     "name": "stdout",
     "output_type": "stream",
     "text": [
      "(?, 1, 1, 512)\n",
      "(?, 14, 14, 512)\n"
     ]
    },
    {
     "data": {
      "text/plain": [
       "<tf.Tensor 'conv2d_20/Relu:0' shape=(?, 224, 224, 3) dtype=float32>"
      ]
     },
     "execution_count": 4,
     "metadata": {},
     "output_type": "execute_result"
    }
   ],
   "source": []
  },
  {
   "cell_type": "code",
   "execution_count": null,
   "metadata": {
    "collapsed": true
   },
   "outputs": [],
   "source": []
  }
 ],
 "metadata": {
  "kernelspec": {
   "display_name": "Python 2",
   "language": "python",
   "name": "python2"
  },
  "language_info": {
   "codemirror_mode": {
    "name": "ipython",
    "version": 2
   },
   "file_extension": ".py",
   "mimetype": "text/x-python",
   "name": "python",
   "nbconvert_exporter": "python",
   "pygments_lexer": "ipython2",
   "version": "2.7.12+"
  }
 },
 "nbformat": 4,
 "nbformat_minor": 2
}
