{
 "cells": [
  {
   "cell_type": "code",
   "execution_count": 1,
   "metadata": {},
   "outputs": [
    {
     "name": "stderr",
     "output_type": "stream",
     "text": [
      "Using TensorFlow backend.\n"
     ]
    }
   ],
   "source": [
    "from keras.datasets import mnist\n",
    "import numpy as np\n",
    "from keras.utils.np_utils import to_categorical\n",
    "from keras.layers import Flatten\n",
    "from keras.layers import Activation\n",
    "from keras.layers import Input, Dense, Conv2D, MaxPooling2D, UpSampling2D,AveragePooling2D,Reshape,add\n",
    "from keras.models import Model\n",
    "from keras import backend as K"
   ]
  },
  {
   "cell_type": "code",
   "execution_count": 2,
   "metadata": {
    "collapsed": true
   },
   "outputs": [],
   "source": [
    "def preprocess():\n",
    "    (x_train,y_train),(x_test,y_test) = mnist.load_data()\n",
    "    x_train = x_train.astype('float32') / 255.\n",
    "    x_test = x_test.astype('float32') / 255.\n",
    "    x_train = np.reshape(x_train, (len(x_train),28,28, 1))\n",
    "    x_test = np.reshape(x_test, (len(x_test),28,28, 1))\n",
    "    y_train = to_categorical(y_train,10)\n",
    "    y_test = to_categorical(y_test,10)\n",
    "\n",
    "    return (x_train,y_train,x_test,y_test)"
   ]
  },
  {
   "cell_type": "code",
   "execution_count": 3,
   "metadata": {
    "collapsed": true
   },
   "outputs": [],
   "source": [
    "def Fire(x1,num_s_1,num_e_1,num_e_3):\n",
    "    x1 = Conv2D(num_s_1,(1,1),padding = 'same')(x1)\n",
    "    x1 = Conv2D(num_e_1,(1,1),padding = 'same')(x1)\n",
    "    output = Conv2D(num_e_3,(3,3),padding = 'same')(x1)\n",
    "    return output"
   ]
  },
  {
   "cell_type": "code",
   "execution_count": 4,
   "metadata": {
    "collapsed": true
   },
   "outputs": [],
   "source": [
    "def model(x):\n",
    "    conv1 = Conv2D(96,(7,7),strides = 2)(x)\n",
    "    MaxPool1 = MaxPooling2D((3,3),strides = 2,padding = 'same')(conv1)\n",
    "    Fire2 = Fire(MaxPool1,16,64,64)\n",
    "    temp1 = (Conv2D(64,(1,1),padding = 'same')(MaxPool1))\n",
    "    temp2 = add([Fire2,temp1])\n",
    "    Fire3 = Fire(temp2,16,64,64)\n",
    "    temp = add([Fire3,Fire2])\n",
    "    Fire4 = Fire(temp,32,128,128)\n",
    "    temp1 = add([Fire4,(Conv2D(128,(1,1),padding = 'same')(Fire3))])\n",
    "    MaxPool2 = MaxPooling2D((3,3),strides = 2,padding = 'same')(temp1)\n",
    "    Fire5 = Fire(MaxPool2,32,128,128)\n",
    "    Fire6 = Fire(add([Fire5,MaxPool2]),48,192,192)\n",
    "    Fire7 = Fire(add([Fire6,(Conv2D(192,(1,1),padding = 'same')(Fire5))]),48,192,192)\n",
    "    Fire8 = Fire(add([Fire7,Fire6]),64,256,256)\n",
    "    MaxPool8 = MaxPooling2D((3,3),strides = 2,padding = 'same')(add([Fire8,(Conv2D(256,(1,1),padding='same')(Fire7))]))\n",
    "    Fire9 = Fire(MaxPool8,64,256,256)\n",
    "    conv10 = Conv2D(1000,(1,1),activation = 'relu')(add([Fire9,MaxPool8]))\n",
    "    conv11 = Conv2D(10,(1,1),activation='relu')(conv10)\n",
    "    avgpool10 = AveragePooling2D()(conv11)\n",
    "    output = Flatten()(avgpool10)\n",
    "    return output"
   ]
  },
  {
   "cell_type": "code",
   "execution_count": 5,
   "metadata": {
    "collapsed": true
   },
   "outputs": [],
   "source": [
    "input_img = Input(shape = (28,28,1))"
   ]
  },
  {
   "cell_type": "code",
   "execution_count": 6,
   "metadata": {},
   "outputs": [],
   "source": [
    "Squeeze = Model(input_img,model(input_img))"
   ]
  },
  {
   "cell_type": "code",
   "execution_count": 7,
   "metadata": {
    "collapsed": true
   },
   "outputs": [],
   "source": [
    "Squeeze.compile(optimizer='adadelta',loss = 'binary_crossentropy')"
   ]
  },
  {
   "cell_type": "code",
   "execution_count": 8,
   "metadata": {
    "collapsed": true
   },
   "outputs": [],
   "source": [
    "x_train,y_train,x_test,y_test = preprocess()"
   ]
  },
  {
   "cell_type": "code",
   "execution_count": null,
   "metadata": {},
   "outputs": [
    {
     "name": "stdout",
     "output_type": "stream",
     "text": [
      "Epoch 1/10\n",
      " 3200/60000 [>.............................] - ETA: 974s - loss: 24849.0282"
     ]
    }
   ],
   "source": [
    "Squeeze.fit(x_train,y_train,\n",
    "                epochs=10,\n",
    "                batch_size=128,\n",
    "                shuffle=True)"
   ]
  },
  {
   "cell_type": "code",
   "execution_count": null,
   "metadata": {
    "collapsed": true
   },
   "outputs": [],
   "source": []
  }
 ],
 "metadata": {
  "kernelspec": {
   "display_name": "Python 2",
   "language": "python",
   "name": "python2"
  },
  "language_info": {
   "codemirror_mode": {
    "name": "ipython",
    "version": 2
   },
   "file_extension": ".py",
   "mimetype": "text/x-python",
   "name": "python",
   "nbconvert_exporter": "python",
   "pygments_lexer": "ipython2",
   "version": "2.7.12+"
  }
 },
 "nbformat": 4,
 "nbformat_minor": 2
}
