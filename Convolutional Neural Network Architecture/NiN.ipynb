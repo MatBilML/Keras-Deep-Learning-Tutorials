{
 "cells": [
  {
   "cell_type": "code",
   "execution_count": null,
   "metadata": {},
   "outputs": [],
   "source": [
    "from keras.datasets import mnist\n",
    "import numpy as np\n",
    "from keras.utils.np_utils import to_categorical\n",
    "from keras.layers import Flatten\n",
    "from keras.layers import Activation\n",
    "from keras.layers import Input, Dense, Conv2D, MaxPooling2D, UpSampling2D,AveragePooling2D,Reshape\n",
    "from keras.models import Model\n",
    "from keras import backend as K"
   ]
  },
  {
   "cell_type": "code",
   "execution_count": null,
   "metadata": {
    "collapsed": true
   },
   "outputs": [],
   "source": [
    "def preprocess():\n",
    "    (x_train,y_train),(x_test,y_test) = mnist.load_data()\n",
    "    x_train = x_train.astype('float32') / 255.\n",
    "    x_test = x_test.astype('float32') / 255.\n",
    "    x_train = np.reshape(x_train, (len(x_train),28,28, 1))\n",
    "    x_test = np.reshape(x_test, (len(x_test),28,28, 1))\n",
    "    y_train = to_categorical(y_train,10)\n",
    "    y_test = to_categorical(y_test,10)\n",
    "\n",
    "    return (x_train,y_train,x_test,y_test)"
   ]
  },
  {
   "cell_type": "code",
   "execution_count": null,
   "metadata": {
    "collapsed": true
   },
   "outputs": [],
   "source": [
    "def model(x):\n",
    "    x1 = Conv2D(11,(1,1),padding = 'same')(x)\n",
    "    x1 = Flatten()(x1)\n",
    "    x1 = Dense(900,activation = 'relu')(x1)\n",
    "    x1 = Dense(900,activation = 'relu')(x1)\n",
    "    x1 = Reshape((30,30,1),input_shape = x1.shape)(x1)\n",
    "    x1 = Conv2D(11,(1,1),padding = 'same')(x1)\n",
    "    x1 = Flatten()(x1)\n",
    "    x1 = Dense(400,activation = 'relu')(x1)\n",
    "    x1 = Dense(400,activation = 'relu')(x1)\n",
    "    x1 = Reshape((20,20,1),input_shape = x1.shape)(x1)\n",
    "    x1 = Conv2D(11,(1,1),padding = 'same')(x1)\n",
    "    x1 = Flatten()(x1)\n",
    "    x1 = Dense(100,activation = 'relu')(x1)\n",
    "    x1 = Dense(100,activation = 'relu')(x1)\n",
    "    x1 = Reshape((10,10,1),input_shape = x1.shape)(x1)\n",
    "    x1 = Conv2D(11,(1,1),padding = 'same')(x1)\n",
    "    x1 = AveragePooling2D((2,2),padding = 'same')(x1)\n",
    "    x1 = Flatten()(x1)\n",
    "    x1 = Dense(10)(x1)\n",
    "    output = Activation('softmax')(x1)\n",
    "    return output"
   ]
  },
  {
   "cell_type": "code",
   "execution_count": null,
   "metadata": {
    "collapsed": true
   },
   "outputs": [],
   "source": [
    "input_img = Input(shape = (28,28,1))"
   ]
  },
  {
   "cell_type": "code",
   "execution_count": null,
   "metadata": {
    "collapsed": true
   },
   "outputs": [],
   "source": [
    "NiN = Model(input_img,model(input_img))"
   ]
  },
  {
   "cell_type": "code",
   "execution_count": null,
   "metadata": {
    "collapsed": true
   },
   "outputs": [],
   "source": [
    "NiN.compile(optimizer='adadelta',loss = 'categorical_crossentropy')"
   ]
  },
  {
   "cell_type": "code",
   "execution_count": null,
   "metadata": {
    "collapsed": true
   },
   "outputs": [],
   "source": [
    "x_train,y_train,x_test,y_test = preprocess()"
   ]
  },
  {
   "cell_type": "code",
   "execution_count": null,
   "metadata": {},
   "outputs": [],
   "source": [
    "NiN.fit(x_train,y_train,\n",
    "                epochs=10,\n",
    "                batch_size=128,\n",
    "                shuffle=True)"
   ]
  },
  {
   "cell_type": "code",
   "execution_count": null,
   "metadata": {
    "collapsed": true
   },
   "outputs": [],
   "source": []
  }
 ],
 "metadata": {
  "kernelspec": {
   "display_name": "Python 2",
   "language": "python",
   "name": "python2"
  },
  "language_info": {
   "codemirror_mode": {
    "name": "ipython",
    "version": 2
   },
   "file_extension": ".py",
   "mimetype": "text/x-python",
   "name": "python",
   "nbconvert_exporter": "python",
   "pygments_lexer": "ipython2",
   "version": "2.7.12+"
  }
 },
 "nbformat": 4,
 "nbformat_minor": 2
}
