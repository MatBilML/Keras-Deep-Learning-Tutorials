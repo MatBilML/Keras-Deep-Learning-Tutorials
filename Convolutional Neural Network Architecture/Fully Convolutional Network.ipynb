{
 "cells": [
  {
   "cell_type": "code",
   "execution_count": 1,
   "metadata": {
    "collapsed": false
   },
   "outputs": [
    {
     "name": "stderr",
     "output_type": "stream",
     "text": [
      "Using TensorFlow backend.\n"
     ]
    }
   ],
   "source": [
    "from keras.datasets import mnist\n",
    "import numpy as np\n",
    "from keras.utils.np_utils import to_categorical\n",
    "from keras.layers import Flatten\n",
    "from keras.layers import Activation\n",
    "from keras.layers import Input, Dense, Conv2D, MaxPooling2D, UpSampling2D,AveragePooling2D,Reshape\n",
    "from keras.models import Model\n",
    "from keras import backend as K"
   ]
  },
  {
   "cell_type": "code",
   "execution_count": 37,
   "metadata": {
    "collapsed": true
   },
   "outputs": [],
   "source": [
    "def preprocess():\n",
    "    (x_train,y_train),(x_test,y_test) = mnist.load_data()\n",
    "    x_train = x_train.astype('float32') / 255.\n",
    "    x_test = x_test.astype('float32') / 255.\n",
    "    x_train = np.reshape(x_train, (len(x_train),28,28, 1))\n",
    "    x_test = np.reshape(x_test, (len(x_test),28,28, 1))\n",
    "    y_train = to_categorical(y_train,10)\n",
    "    y_test = to_categorical(y_test,10)\n",
    "    y_train = np.reshape(y_train,(len(y_train),1,10))\n",
    "    y_test = np.reshape(y_test,(len(y_test),1,10))\n",
    "    return (x_train,y_train,x_test,y_test)"
   ]
  },
  {
   "cell_type": "code",
   "execution_count": 38,
   "metadata": {
    "collapsed": false
   },
   "outputs": [],
   "source": [
    "def model(x): \n",
    "    x1 = Conv2D(64,(3,3),activation='relu',padding = 'same')(x)\n",
    "    x1 = Conv2D(64,(3,3),activation='relu',padding= 'same')(x1)\n",
    "    x1 = MaxPooling2D((2,2),padding = 'same')(x1)\n",
    "    x1 = Conv2D(128,(3,3),activation='relu',padding= 'same')(x1)\n",
    "    x1 = Conv2D(128,(3,3),activation='relu',padding= 'same')(x1)\n",
    "    x1 = MaxPooling2D((2,2),padding = 'same')(x1)\n",
    "    x1 = Conv2D(256,(3,3),activation='relu',padding= 'same')(x1)\n",
    "    x1 = Conv2D(256,(3,3),activation='relu',padding= 'same')(x1)\n",
    "    x1 = Conv2D(256,(1,1),activation='relu',padding= 'same')(x1)\n",
    "    x1 = MaxPooling2D((2,2),padding = 'same')(x1)\n",
    "    x1 = Conv2D(512,(3,3),activation='relu',padding= 'same')(x1)\n",
    "    x1 = Conv2D(512,(3,3),activation='relu',padding= 'same')(x1)\n",
    "    x1 = Conv2D(512,(1,1),activation='relu',padding= 'same')(x1)\n",
    "    x1 = MaxPooling2D((2,2),padding = 'same')(x1)\n",
    "    x1 = Conv2D(512,(3,3),activation='relu',padding= 'same')(x1)\n",
    "    x1 = Conv2D(512,(3,3),activation='relu',padding= 'same')(x1) \n",
    "    x1 = Conv2D(512,(1,1),activation='relu',padding= 'same')(x1)\n",
    "    x1 = MaxPooling2D((2,2),padding = 'same')(x1)\n",
    "    x1 = Conv2D(4096,(1,1),activation = 'relu',padding = 'same')(x1)\n",
    "    x1 = Conv2D(4096,(1,1),activation = 'relu',padding = 'same')(x1)\n",
    "    x1 = Conv2D(1000,(1,1),activation = 'relu',padding = 'same')(x1)\n",
    "    x1 = Conv2D(10,(1,1),activation = 'relu',padding = 'same')(x1)\n",
    "    x1 = Reshape((1,10),input_shape = (1,1,10))(x1)\n",
    "    output = Activation('softmax')(x1)\n",
    "    return output"
   ]
  },
  {
   "cell_type": "code",
   "execution_count": 39,
   "metadata": {
    "collapsed": true
   },
   "outputs": [],
   "source": [
    "input_img = Input(shape = (28,28,1))"
   ]
  },
  {
   "cell_type": "code",
   "execution_count": 40,
   "metadata": {
    "collapsed": false
   },
   "outputs": [],
   "source": [
    "FCN = Model(input_img,model(input_img))"
   ]
  },
  {
   "cell_type": "code",
   "execution_count": 41,
   "metadata": {
    "collapsed": true
   },
   "outputs": [],
   "source": [
    "FCN.compile(optimizer='adadelta',loss = 'mean_absolute_percentage_error')"
   ]
  },
  {
   "cell_type": "code",
   "execution_count": 42,
   "metadata": {
    "collapsed": true
   },
   "outputs": [],
   "source": [
    "x_train,y_train,x_test,y_test = preprocess()"
   ]
  },
  {
   "cell_type": "code",
   "execution_count": null,
   "metadata": {
    "collapsed": true
   },
   "outputs": [],
   "source": [
    "FCN.fit(x_train,y_train,\n",
    "                epochs=10,\n",
    "                batch_size=128,\n",
    "                shuffle=True)"
   ]
  }
 ],
 "metadata": {
  "kernelspec": {
   "display_name": "Python 2",
   "language": "python",
   "name": "python2"
  },
  "language_info": {
   "codemirror_mode": {
    "name": "ipython",
    "version": 2
   },
   "file_extension": ".py",
   "mimetype": "text/x-python",
   "name": "python",
   "nbconvert_exporter": "python",
   "pygments_lexer": "ipython2",
   "version": "2.7.12+"
  }
 },
 "nbformat": 4,
 "nbformat_minor": 2
}
