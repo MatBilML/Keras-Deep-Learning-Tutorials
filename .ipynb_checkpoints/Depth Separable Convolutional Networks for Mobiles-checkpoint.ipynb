{
 "cells": [
  {
   "cell_type": "code",
   "execution_count": 1,
   "metadata": {},
   "outputs": [
    {
     "name": "stderr",
     "output_type": "stream",
     "text": [
      "Using TensorFlow backend.\n"
     ]
    }
   ],
   "source": [
    "from keras.models import Sequential\n",
    "from keras.layers import Conv2D, MaxPooling2D\n",
    "from keras.layers import Activation, Dropout, Flatten, Dense,BatchNormalization,SeparableConv2D,AveragePooling2D\n",
    "from keras.models import Sequential\n",
    "from keras.layers import Dense,Activation,Input\n",
    "from keras.models import model_from_yaml\n",
    "from scipy import misc\n",
    "from keras.models import Model\n",
    "import os\n",
    "import numpy as np\n",
    "from keras.utils.np_utils import to_categorical\n",
    "from sklearn.model_selection import train_test_split\n",
    "from scipy import misc\n",
    "from keras.datasets import mnist\n",
    "import cv2"
   ]
  },
  {
   "cell_type": "code",
   "execution_count": 2,
   "metadata": {
    "collapsed": true
   },
   "outputs": [],
   "source": [
    "def Convolution(x,num_filters,stride_size,kernel_size):\n",
    "    x1 = Conv2D(num_filters,(kernel_size,kernel_size),strides = (stride_size,stride_size),kernel_initializer= 'glorot_uniform',padding = 'same')(x)\n",
    "    x1 = BatchNormalization()(x1)\n",
    "    x1 = Activation('relu')(x1)\n",
    "    return x1"
   ]
  },
  {
   "cell_type": "code",
   "execution_count": 3,
   "metadata": {
    "collapsed": true
   },
   "outputs": [],
   "source": [
    "def Depth_wise_Convolution(x,num_filters,stride_size):\n",
    "    x1 = SeparableConv2D(num_filters,strides = (stride_size,stride_size),kernel_size = (3,3),padding = 'same')(x)\n",
    "    x1 = BatchNormalization()(x1)\n",
    "    x1 = Activation('relu')(x1)\n",
    "#     x1 = Conv2D(num_filters,(1,1),strides = (stride_size,stride_size))(x1)\n",
    "#     x1 = BatchNormalization()(x1)\n",
    "#     x1 = Activation('relu')(x1)\n",
    "    return x1"
   ]
  },
  {
   "cell_type": "code",
   "execution_count": 4,
   "metadata": {
    "collapsed": true
   },
   "outputs": [],
   "source": [
    "def model(x):\n",
    "    x1 = Convolution(input_img,32,2,3)\n",
    "    x2 = Depth_wise_Convolution(x1,32,1)\n",
    "    x3 = Convolution(x2,64,1,1)\n",
    "    x4 = Depth_wise_Convolution(x3,64,2)\n",
    "    x5 = Convolution(x4,128,1,1)\n",
    "    x6 = Depth_wise_Convolution(x5,128,1)\n",
    "    x7 = Convolution(x6,128,1,1)\n",
    "    x8 = Depth_wise_Convolution(x7,128,2)\n",
    "    x9 = Convolution(x8,256,1,1)\n",
    "    x10 = Depth_wise_Convolution(x9,256,1)\n",
    "    x11 = Convolution(x10,256,1,1)\n",
    "    x12 = Depth_wise_Convolution(x11,256,2)\n",
    "    x13 = Convolution(x12,512,1,1)\n",
    "    x14 = Depth_wise_Convolution(x13,512,1)\n",
    "    x15 = Convolution(x14,512,1,1)\n",
    "    x16 = Depth_wise_Convolution(x15,512,1)\n",
    "    x17 = Convolution(x16,512,1,1)\n",
    "    x18 = Depth_wise_Convolution(x17,512,1)\n",
    "    x19 = Convolution(x18,512,1,1)\n",
    "    x20 = Depth_wise_Convolution(x19,512,1)\n",
    "    x21 = Convolution(x20,512,1,1)\n",
    "    x22 = Depth_wise_Convolution(x21,512,1)\n",
    "    x23 = Convolution(x22,512,1,1)\n",
    "    x24 = Depth_wise_Convolution(x23,512,2)\n",
    "    x25 = Convolution(x24,1024,1,1)\n",
    "    x26 = Depth_wise_Convolution(x25,1024,1)\n",
    "    x27 = Convolution(x26,1024,1,1)\n",
    "    x28 = AveragePooling2D(pool_size=(7,7),strides = (1,1),padding='same')(x27)\n",
    "    x29 = Flatten()(x28)\n",
    "    x30 = Dense(1000,activation='relu')(x29)\n",
    "    x31 = Activation('softmax')(x30)\n",
    "    return x31"
   ]
  },
  {
   "cell_type": "code",
   "execution_count": 17,
   "metadata": {
    "collapsed": true
   },
   "outputs": [],
   "source": [
    "def preprocess():\n",
    "    (x_train,y_train),(x_test,y_test) = mnist.load_data()\n",
    "    x_train = x_train.astype('float32') / 255.\n",
    "    x_test = x_test.astype('float32') / 255.\n",
    "    x_train = np.reshape(x_train, (len(x_train),28,28,1))\n",
    "    x_test = np.reshape(x_test, (len(x_test),28,28,1))\n",
    "    y_train = to_categorical(y_train,10)\n",
    "    y_test = to_categorical(y_test,10)\n",
    "    y_train = np.reshape(y_train,(len(y_train),1,10))\n",
    "    y_test = np.reshape(y_test,(len(y_test),1,10))\n",
    "    return (x_train,y_train,x_test,y_test)"
   ]
  },
  {
   "cell_type": "code",
   "execution_count": 14,
   "metadata": {
    "collapsed": true
   },
   "outputs": [],
   "source": [
    "input_img = Input(shape = (28,28,1))"
   ]
  },
  {
   "cell_type": "code",
   "execution_count": 7,
   "metadata": {
    "collapsed": true
   },
   "outputs": [],
   "source": [
    "MobileNet = Model(input_img,model(input_img))"
   ]
  },
  {
   "cell_type": "code",
   "execution_count": 8,
   "metadata": {
    "collapsed": true
   },
   "outputs": [],
   "source": [
    "MobileNet.compile(optimizer = 'rmsprop',loss = 'categorical_crossentropy')"
   ]
  },
  {
   "cell_type": "code",
   "execution_count": 18,
   "metadata": {
    "collapsed": true
   },
   "outputs": [],
   "source": [
    "x_train,y_train,x_test,y_test = preprocess()"
   ]
  },
  {
   "cell_type": "code",
   "execution_count": null,
   "metadata": {
    "collapsed": true
   },
   "outputs": [],
   "source": [
    "MobileNet.fit(x_train,y_train,\n",
    "                epochs=10,\n",
    "                batch_size=128,\n",
    "                shuffle=True)"
   ]
  }
 ],
 "metadata": {
  "kernelspec": {
   "display_name": "Python 2",
   "language": "python",
   "name": "python2"
  },
  "language_info": {
   "codemirror_mode": {
    "name": "ipython",
    "version": 2
   },
   "file_extension": ".py",
   "mimetype": "text/x-python",
   "name": "python",
   "nbconvert_exporter": "python",
   "pygments_lexer": "ipython2",
   "version": "2.7.12+"
  }
 },
 "nbformat": 4,
 "nbformat_minor": 2
}
