{
 "cells": [
  {
   "cell_type": "code",
   "execution_count": 1,
   "metadata": {
    "collapsed": false
   },
   "outputs": [],
   "source": [
    "from keras.datasets import mnist\n",
    "import numpy as np\n",
    "from keras.utils.np_utils import to_categorical\n",
    "from keras.layers import Flatten,LeakyReLU\n",
    "from keras.layers import Activation,BatchNormalization\n",
    "from keras.layers import Input, Dense, Conv2D, MaxPooling2D, UpSampling2D,AveragePooling2D,Reshape, Conv2DTranspose\n",
    "from keras.models import Model\n",
    "from keras import backend as K\n",
    "from scipy import misc\n",
    "from os import listdir\n",
    "import scipy\n",
    "import scipy.ndimage as ndimage\n",
    "# import cv2\n",
    "from scipy.misc import toimage\n",
    "import scipy.ndimage\n",
    "import matplotlib.pyplot as plt"
   ]
  },
  {
   "cell_type": "code",
   "execution_count": 2,
   "metadata": {
    "collapsed": true
   },
   "outputs": [],
   "source": [
    "def LAPSRN(x):\n",
    "    temp = Conv2D(64,(3,3),padding='same')(x)\n",
    "    temp = BatchNormalization(temp)\n",
    "    temp = LeakyReLU(alpha=0.2)(temp)\n",
    "    temp = Conv2D(64,(3,3),padding = 'same')(temp)\n",
    "    temp = BatchNormalization(temp)\n",
    "    temp = LeakyReLU(alpha=0.2)(temp)\n",
    "    temp = Conv2DTranspose(1,(4,4))(temp)\n",
    "    x2 = temp\n",
    "    temp = Conv2D(64,(3,3),padding = 'same')(temp)\n",
    "    temp = BatchNormalization(temp)\n",
    "    temp = LeakyReLU(alpha = 0.2)(temp)\n",
    "    temp = Conv2D(64,(3,3),padding = 'same')(temp)\n",
    "    temp = BatchNormalization(temp)\n",
    "    temp = LeakyReLU(alpha=0.2)(temp)\n",
    "    temp = Conv2DTranspose(1,(4,4))(temp)\n",
    "    x4 = temp\n",
    "    temp = Conv2D(64,(3,3),padding = 'same')(temp)\n",
    "    temp = BatchNormalization(temp)\n",
    "    temp = LeakyReLU()(temp)\n",
    "    temp = Conv2D(64,(3,3),padding = 'same')(temp)\n",
    "    temp = BatchNormalization(temp)\n",
    "    temp = LeakyReLU()(temp)\n",
    "    temp = Conv2DTranspose(1,(4,4))(temp)\n",
    "    x8 = temp\n",
    "    temp = Conv2D(64,(3,3),padding = 'same')(temp)\n",
    "    temp = BatchNormalization(temp)\n",
    "    temp = LeakyReLU(alpha = 0.2)(temp)\n",
    "    temp = Conv2D(64,(3,3),padding = 'same')(temp)\n",
    "    temp = BatchNormalization(temp)\n",
    "    temp = LeakyReLU(alpha = 0.2)(temp)\n",
    "    temp = Conv2DTranspose(1,(3,3))(temp)\n",
    "    x16 = temp\n",
    "    return (x2,x4,x8,x16)"
   ]
  },
  {
   "cell_type": "code",
   "execution_count": 3,
   "metadata": {
    "collapsed": true
   },
   "outputs": [],
   "source": [
    "def preprocess():\n",
    "    (x_train,y_train),(x_test,y_test) = mnist.load_data()\n",
    "    x_train = x_train.astype('float32') / 255.\n",
    "    x_test = x_test.astype('float32') / 255.\n",
    "\n",
    "    print (x_train[0][0])\n",
    "\n",
    "    _y_train = np.zeros(shape=(x_train.shape[0], 39, 39))\n",
    "    _y_test = np.zeros(shape=(x_test.shape[0], 39, 39))\n",
    "    \n",
    "    for i in range(len(y_train)):\n",
    "        _y_train[i, :] = scipy.ndimage.zoom(x_train[i, :], 1.4, order=1)\n",
    "\n",
    "    for j in range(len(y_test)):\n",
    "        _y_test[j, :] = scipy.ndimage.zoom(x_test[j, :], 1.4, order=1)\n",
    "\n",
    "    x_train = ndimage.gaussian_filter(x_train,0.9)\n",
    "    x_test = ndimage.gaussian_filter(x_test,0.9)\n",
    "    \n",
    "    x_train = np.reshape(x_train, (len(x_train), 28, 28, 1))\n",
    "    x_test = np.reshape(x_test, (len(x_test), 28, 28, 1))\n",
    "    \n",
    "    _y_train = np.reshape(_y_train, (len(_y_train), 39, 39, 1))\n",
    "    _y_test= np.reshape(_y_test, (len(_y_test), 39, 39, 1))\n",
    "    return (x_train,_y_train,x_test,_y_test)"
   ]
  },
  {
   "cell_type": "code",
   "execution_count": 4,
   "metadata": {
    "collapsed": true
   },
   "outputs": [],
   "source": [
    "input_img = Input(shape = (28,28,1))"
   ]
  },
  {
   "cell_type": "code",
   "execution_count": 5,
   "metadata": {
    "collapsed": true
   },
   "outputs": [],
   "source": [
    "op1,op2,op3,op4 = LAPSRN(input_img)"
   ]
  },
  {
   "cell_type": "code",
   "execution_count": 6,
   "metadata": {
    "collapsed": true
   },
   "outputs": [],
   "source": [
    "model1 = Model(input_img,op1)"
   ]
  },
  {
   "cell_type": "code",
   "execution_count": 7,
   "metadata": {
    "collapsed": true
   },
   "outputs": [],
   "source": [
    "model2 = Model(input_img,op2)"
   ]
  },
  {
   "cell_type": "code",
   "execution_count": 8,
   "metadata": {
    "collapsed": true
   },
   "outputs": [],
   "source": [
    "model3 = Model(input_img,op3)"
   ]
  },
  {
   "cell_type": "code",
   "execution_count": 9,
   "metadata": {
    "collapsed": true
   },
   "outputs": [],
   "source": [
    "model4 = Model(input_img,op4)"
   ]
  },
  {
   "cell_type": "code",
   "execution_count": 10,
   "metadata": {
    "collapsed": true
   },
   "outputs": [],
   "source": [
    "model4.compile(optimizer='adadelta',loss = 'mean_squared_error')"
   ]
  },
  {
   "cell_type": "code",
   "execution_count": 11,
   "metadata": {
    "collapsed": false
   },
   "outputs": [
    {
     "name": "stdout",
     "output_type": "stream",
     "text": [
      "[ 0.  0.  0.  0.  0.  0.  0.  0.  0.  0.  0.  0.  0.  0.  0.  0.  0.  0.\n",
      "  0.  0.  0.  0.  0.  0.  0.  0.  0.  0.]\n"
     ]
    }
   ],
   "source": [
    "x_train,y_train,x_test,y_test = preprocess()"
   ]
  },
  {
   "cell_type": "code",
   "execution_count": 12,
   "metadata": {
    "collapsed": false
   },
   "outputs": [
    {
     "data": {
      "text/plain": [
       "(60000, 28, 28, 1)"
      ]
     },
     "execution_count": 12,
     "metadata": {},
     "output_type": "execute_result"
    }
   ],
   "source": [
    "np.shape(x_train)"
   ]
  },
  {
   "cell_type": "code",
   "execution_count": 13,
   "metadata": {
    "collapsed": false
   },
   "outputs": [
    {
     "data": {
      "text/plain": [
       "(60000, 39, 39, 1)"
      ]
     },
     "execution_count": 13,
     "metadata": {},
     "output_type": "execute_result"
    }
   ],
   "source": [
    "np.shape(y_train)"
   ]
  },
  {
   "cell_type": "code",
   "execution_count": 14,
   "metadata": {
    "collapsed": false
   },
   "outputs": [
    {
     "name": "stdout",
     "output_type": "stream",
     "text": [
      "Epoch 1/10\n",
      "138s - loss: 0.0579\n",
      "Epoch 2/10\n",
      "71s - loss: 0.0431\n",
      "Epoch 3/10\n",
      "71s - loss: 0.0361\n",
      "Epoch 4/10\n",
      "72s - loss: 0.0327\n",
      "Epoch 5/10\n",
      "73s - loss: 0.0310\n",
      "Epoch 6/10\n",
      "73s - loss: 0.0300\n",
      "Epoch 7/10\n",
      "73s - loss: 0.0292\n",
      "Epoch 8/10\n",
      "71s - loss: 0.0285\n",
      "Epoch 9/10\n",
      "71s - loss: 0.0279\n",
      "Epoch 10/10\n",
      "71s - loss: 0.0274\n"
     ]
    },
    {
     "data": {
      "text/plain": [
       "<keras.callbacks.History at 0x7fc92a878e80>"
      ]
     },
     "execution_count": 14,
     "metadata": {},
     "output_type": "execute_result"
    }
   ],
   "source": [
    "model4.fit(x_train,y_train,batch_size=256,shuffle=True, verbose=2, epochs=10)"
   ]
  },
  {
   "cell_type": "code",
   "execution_count": 27,
   "metadata": {
    "collapsed": false
   },
   "outputs": [
    {
     "data": {
      "text/plain": [
       "(60000, 28, 28)"
      ]
     },
     "execution_count": 27,
     "metadata": {},
     "output_type": "execute_result"
    }
   ],
   "source": [
    "x_train.shape"
   ]
  },
  {
   "cell_type": "code",
   "execution_count": 15,
   "metadata": {
    "collapsed": true
   },
   "outputs": [],
   "source": [
    "out = model4.predict(np.expand_dims(x_test[0], axis=0))\n",
    "out2 = np.reshape(out, (39, 39))"
   ]
  },
  {
   "cell_type": "code",
   "execution_count": 16,
   "metadata": {
    "collapsed": false
   },
   "outputs": [
    {
     "data": {
      "image/png": "[encoded data removed]",
      "text/plain": [
       "<matplotlib.figure.Figure at 0x7fc92ab4f9b0>"
      ]
     },
     "metadata": {},
     "output_type": "display_data"
    }
   ],
   "source": [
    "#reduced noise image\n",
    "plt.imshow(toimage(out2))\n",
    "plt.show()"
   ]
  },
  {
   "cell_type": "code",
   "execution_count": 17,
   "metadata": {
    "collapsed": false
   },
   "outputs": [
    {
     "data": {
      "image/png": "[encoded data removed]",
      "text/plain": [
       "<matplotlib.figure.Figure at 0x7fc8e818c278>"
      ]
     },
     "metadata": {},
     "output_type": "display_data"
    }
   ],
   "source": [
    "#input image\n",
    "img2 = np.reshape(x_test[0], (28, 28))\n",
    "plt.imshow(toimage(img2))\n",
    "plt.show()"
   ]
  },
  {
   "cell_type": "code",
   "execution_count": 18,
   "metadata": {
    "collapsed": true
   },
   "outputs": [],
   "source": [
    "img3 = scipy.ndimage.zoom(x_test[0], 1.4, order=3)"
   ]
  },
  {
   "cell_type": "code",
   "execution_count": 19,
   "metadata": {
    "collapsed": false
   },
   "outputs": [
    {
     "data": {
      "image/png": "[encoded data removed]",
      "text/plain": [
       "<matplotlib.figure.Figure at 0x7fc92ab27400>"
      ]
     },
     "metadata": {},
     "output_type": "display_data"
    }
   ],
   "source": [
    "img3 = np.reshape(img3, (39, 39))\n",
    "plt.imshow(toimage(img3))\n",
    "plt.show()"
   ]
  },
  {
   "cell_type": "code",
   "execution_count": 30,
   "metadata": {
    "collapsed": false
   },
   "outputs": [
    {
     "data": {
      "image/png": "[encoded data removed]",
      "text/plain": [
       "<matplotlib.figure.Figure at 0x7fc8e0657470>"
      ]
     },
     "metadata": {},
     "output_type": "display_data"
    }
   ],
   "source": [
    "x_test20 = ndimage.gaussian_filter(x_test2[0],0.9)\n",
    "img3 = scipy.ndimage.zoom(x_test20, 1.4, order=3)\n",
    "img3 = np.reshape(img3, (39, 39))\n",
    "plt.imshow(toimage(img3))\n",
    "plt.show()"
   ]
  },
  {
   "cell_type": "code",
   "execution_count": 21,
   "metadata": {
    "collapsed": true
   },
   "outputs": [],
   "source": [
    "(x_train2,y_train2),(x_test2,y_test2) = mnist.load_data()"
   ]
  },
  {
   "cell_type": "code",
   "execution_count": 39,
   "metadata": {
    "collapsed": true
   },
   "outputs": [],
   "source": [
    "x_train5 = ndimage.gaussian_filter(x_train2,0.5)"
   ]
  },
  {
   "cell_type": "code",
   "execution_count": 40,
   "metadata": {
    "collapsed": true
   },
   "outputs": [],
   "source": [
    "x_train9 = ndimage.gaussian_filter(x_train2,0.9)"
   ]
  },
  {
   "cell_type": "code",
   "execution_count": 41,
   "metadata": {
    "collapsed": true
   },
   "outputs": [],
   "source": [
    "img1 = np.reshape(x_train5[0], (28, 28))\n",
    "img2 = np.reshape(x_train9[0], (28, 28))"
   ]
  },
  {
   "cell_type": "code",
   "execution_count": 42,
   "metadata": {
    "collapsed": false
   },
   "outputs": [
    {
     "data": {
      "image/png": "[encoded data removed]",
      "text/plain": [
       "<matplotlib.figure.Figure at 0x7f35f8077cf8>"
      ]
     },
     "metadata": {},
     "output_type": "display_data"
    }
   ],
   "source": [
    "plt.imshow(toimage(img1))\n",
    "plt.show()"
   ]
  },
  {
   "cell_type": "code",
   "execution_count": 43,
   "metadata": {
    "collapsed": false
   },
   "outputs": [
    {
     "data": {
      "image/png": "[encoded data removed]",
      "text/plain": [
       "<matplotlib.figure.Figure at 0x7f35f06aa9e8>"
      ]
     },
     "metadata": {},
     "output_type": "display_data"
    }
   ],
   "source": [
    "plt.imshow(toimage(img2))\n",
    "plt.show()"
   ]
  },
  {
   "cell_type": "code",
   "execution_count": null,
   "metadata": {
    "collapsed": true
   },
   "outputs": [],
   "source": []
  }
 ],
 "metadata": {
  "kernelspec": {
   "display_name": "Python 2",
   "language": "python",
   "name": "python2"
  },
  "language_info": {
   "codemirror_mode": {
    "name": "ipython",
    "version": 2
   },
   "file_extension": ".py",
   "mimetype": "text/x-python",
   "name": "python",
   "nbconvert_exporter": "python",
   "pygments_lexer": "ipython2",
   "version": "2.7.12+"
  }
 },
 "nbformat": 4,
 "nbformat_minor": 2
}
