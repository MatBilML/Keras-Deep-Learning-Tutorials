{
 "cells": [
  {
   "cell_type": "code",
   "execution_count": 11,
   "metadata": {
    "collapsed": false
   },
   "outputs": [],
   "source": [
    "from keras.layers import Input, Dense, Conv2D, MaxPooling2D, UpSampling2D,BatchNormalization,Flatten,Reshape\n",
    "from keras.models import Model\n",
    "from keras import backend as K"
   ]
  },
  {
   "cell_type": "code",
   "execution_count": 2,
   "metadata": {
    "collapsed": true
   },
   "outputs": [],
   "source": [
    "input_img = Input(shape=(224,224,3))"
   ]
  },
  {
   "cell_type": "code",
   "execution_count": 15,
   "metadata": {
    "collapsed": true
   },
   "outputs": [],
   "source": [
    "def model(ip):\n",
    "    x = Conv2D(64,(3,3),activation='relu',padding = 'same')(ip)\n",
    "    x = BatchNormalization()(x)\n",
    "    x = Conv2D(64,(3,3),activation='relu',padding= 'same')(x)\n",
    "    x = BatchNormalization()(x)\n",
    "    x = MaxPooling2D((2,2))(x)\n",
    "    x = Conv2D(128,(3,3),activation='relu',padding= 'same')(x)\n",
    "    x = BatchNormalization()(x)\n",
    "    x = Conv2D(128,(3,3),activation='relu',padding= 'same')(x)\n",
    "    x = BatchNormalization()(x)\n",
    "    x = MaxPooling2D((2,2))(x)\n",
    "    x = Conv2D(256,(3,3),activation='relu',padding= 'same')(x)\n",
    "    x = BatchNormalization()(x)\n",
    "    x = Conv2D(256,(3,3),activation='relu',padding= 'same')(x) \n",
    "    x = BatchNormalization()(x)\n",
    "    x = Conv2D(256,(3,3),activation='relu',padding= 'same')(x)\n",
    "    x = BatchNormalization()(x)\n",
    "    x = MaxPooling2D((2,2))(x)\n",
    "    x = Conv2D(512,(3,3),activation='relu',padding= 'same')(x)\n",
    "    x = BatchNormalization()(x)\n",
    "    x = Conv2D(512,(3,3),activation='relu',padding= 'same')(x)\n",
    "    x = BatchNormalization()(x)\n",
    "    x = Conv2D(512,(3,3),activation='relu',padding= 'same')(x)\n",
    "    x = BatchNormalization()(x)\n",
    "    x = MaxPooling2D((2,2))(x)\n",
    "    x = Conv2D(512,(3,3),activation='relu',padding= 'same')(x)\n",
    "    x = BatchNormalization()(x)\n",
    "    x = Conv2D(512,(3,3),activation='relu',padding= 'same')(x)\n",
    "    x = BatchNormalization()(x)\n",
    "    x = Conv2D(512,(3,3),activation='relu',padding= 'same')(x) \n",
    "    x = BatchNormalization()(x)\n",
    "    x1 = Conv2D(512,(1,1),activation = 'relu', padding = 'same')(x)\n",
    "    x1 = BatchNormalization()(x1)\n",
    "    x1 = Conv2D(512,(14,14),activation = 'relu')(x1)\n",
    "    x1 = Conv2D(3136,(1,1),activation = 'relu',padding = 'same')(x1)\n",
    "    x1 = Reshape((56,56,1))(x1)\n",
    "    print x1.shape\n",
    "    x1 = UpSampling2D((4,4))(x1)\n",
    "    x2 = MaxPooling2D((2,2))(x)\n",
    "    x2 = Conv2D(512,(7,7),activation = 'relu')(x2)\n",
    "    x2 = Conv2D(1024,(1,1),activation = 'relu',padding = 'same')(x2)\n",
    "    x2 = Conv2D(1,(1,1),activation = 'relu',padding = 'same')(x2)\n",
    "    x2 = Flatten()(x2)\n",
    "    print x1.shape\n",
    "    print x2.shape\n",
    "    return (x1,x2)"
   ]
  },
  {
   "cell_type": "code",
   "execution_count": 16,
   "metadata": {
    "collapsed": false
   },
   "outputs": [
    {
     "name": "stdout",
     "output_type": "stream",
     "text": [
      "(?, 56, 56, 1)\n",
      "(?, 224, 224, 1)\n",
      "(?, ?)\n"
     ]
    }
   ],
   "source": [
    "(a,b) = model(input_img)"
   ]
  },
  {
   "cell_type": "code",
   "execution_count": 17,
   "metadata": {
    "collapsed": false
   },
   "outputs": [
    {
     "name": "stdout",
     "output_type": "stream",
     "text": [
      "(?, 56, 56, 1)\n",
      "(?, 224, 224, 1)\n",
      "(?, ?)\n"
     ]
    }
   ],
   "source": [
    "arch= Model(input_img,model(input_img)[0])"
   ]
  },
  {
   "cell_type": "code",
   "execution_count": 18,
   "metadata": {
    "collapsed": false
   },
   "outputs": [
    {
     "name": "stdout",
     "output_type": "stream",
     "text": [
      "_________________________________________________________________\n",
      "Layer (type)                 Output Shape              Param #   \n",
      "=================================================================\n",
      "input_1 (InputLayer)         (None, 224, 224, 3)       0         \n",
      "_________________________________________________________________\n",
      "conv2d_110 (Conv2D)          (None, 224, 224, 64)      1792      \n",
      "_________________________________________________________________\n",
      "batch_normalization_85 (Batc (None, 224, 224, 64)      256       \n",
      "_________________________________________________________________\n",
      "conv2d_111 (Conv2D)          (None, 224, 224, 64)      36928     \n",
      "_________________________________________________________________\n",
      "batch_normalization_86 (Batc (None, 224, 224, 64)      256       \n",
      "_________________________________________________________________\n",
      "max_pooling2d_30 (MaxPooling (None, 112, 112, 64)      0         \n",
      "_________________________________________________________________\n",
      "conv2d_112 (Conv2D)          (None, 112, 112, 128)     73856     \n",
      "_________________________________________________________________\n",
      "batch_normalization_87 (Batc (None, 112, 112, 128)     512       \n",
      "_________________________________________________________________\n",
      "conv2d_113 (Conv2D)          (None, 112, 112, 128)     147584    \n",
      "_________________________________________________________________\n",
      "batch_normalization_88 (Batc (None, 112, 112, 128)     512       \n",
      "_________________________________________________________________\n",
      "max_pooling2d_31 (MaxPooling (None, 56, 56, 128)       0         \n",
      "_________________________________________________________________\n",
      "conv2d_114 (Conv2D)          (None, 56, 56, 256)       295168    \n",
      "_________________________________________________________________\n",
      "batch_normalization_89 (Batc (None, 56, 56, 256)       1024      \n",
      "_________________________________________________________________\n",
      "conv2d_115 (Conv2D)          (None, 56, 56, 256)       590080    \n",
      "_________________________________________________________________\n",
      "batch_normalization_90 (Batc (None, 56, 56, 256)       1024      \n",
      "_________________________________________________________________\n",
      "conv2d_116 (Conv2D)          (None, 56, 56, 256)       590080    \n",
      "_________________________________________________________________\n",
      "batch_normalization_91 (Batc (None, 56, 56, 256)       1024      \n",
      "_________________________________________________________________\n",
      "max_pooling2d_32 (MaxPooling (None, 28, 28, 256)       0         \n",
      "_________________________________________________________________\n",
      "conv2d_117 (Conv2D)          (None, 28, 28, 512)       1180160   \n",
      "_________________________________________________________________\n",
      "batch_normalization_92 (Batc (None, 28, 28, 512)       2048      \n",
      "_________________________________________________________________\n",
      "conv2d_118 (Conv2D)          (None, 28, 28, 512)       2359808   \n",
      "_________________________________________________________________\n",
      "batch_normalization_93 (Batc (None, 28, 28, 512)       2048      \n",
      "_________________________________________________________________\n",
      "conv2d_119 (Conv2D)          (None, 28, 28, 512)       2359808   \n",
      "_________________________________________________________________\n",
      "batch_normalization_94 (Batc (None, 28, 28, 512)       2048      \n",
      "_________________________________________________________________\n",
      "max_pooling2d_33 (MaxPooling (None, 14, 14, 512)       0         \n",
      "_________________________________________________________________\n",
      "conv2d_120 (Conv2D)          (None, 14, 14, 512)       2359808   \n",
      "_________________________________________________________________\n",
      "batch_normalization_95 (Batc (None, 14, 14, 512)       2048      \n",
      "_________________________________________________________________\n",
      "conv2d_121 (Conv2D)          (None, 14, 14, 512)       2359808   \n",
      "_________________________________________________________________\n",
      "batch_normalization_96 (Batc (None, 14, 14, 512)       2048      \n",
      "_________________________________________________________________\n",
      "conv2d_122 (Conv2D)          (None, 14, 14, 512)       2359808   \n",
      "_________________________________________________________________\n",
      "batch_normalization_97 (Batc (None, 14, 14, 512)       2048      \n",
      "_________________________________________________________________\n",
      "conv2d_123 (Conv2D)          (None, 14, 14, 512)       262656    \n",
      "_________________________________________________________________\n",
      "batch_normalization_98 (Batc (None, 14, 14, 512)       2048      \n",
      "_________________________________________________________________\n",
      "conv2d_124 (Conv2D)          (None, 1, 1, 512)         51380736  \n",
      "_________________________________________________________________\n",
      "conv2d_125 (Conv2D)          (None, 1, 1, 3136)        1608768   \n",
      "_________________________________________________________________\n",
      "reshape_3 (Reshape)          (None, 56, 56, 1)         0         \n",
      "_________________________________________________________________\n",
      "up_sampling2d_7 (UpSampling2 (None, 224, 224, 1)       0         \n",
      "=================================================================\n",
      "Total params: 67,985,792\n",
      "Trainable params: 67,976,320\n",
      "Non-trainable params: 9,472\n",
      "_________________________________________________________________\n",
      "None\n"
     ]
    }
   ],
   "source": [
    "print arch.summary()"
   ]
  },
  {
   "cell_type": "code",
   "execution_count": 19,
   "metadata": {
    "collapsed": false
   },
   "outputs": [
    {
     "name": "stdout",
     "output_type": "stream",
     "text": [
      "(?, 56, 56, 1)\n",
      "(?, 224, 224, 1)\n",
      "(?, ?)\n"
     ]
    }
   ],
   "source": [
    "arch2 = Model(input_img,model(input_img)[1])"
   ]
  },
  {
   "cell_type": "code",
   "execution_count": 20,
   "metadata": {
    "collapsed": false
   },
   "outputs": [
    {
     "name": "stdout",
     "output_type": "stream",
     "text": [
      "_________________________________________________________________\n",
      "Layer (type)                 Output Shape              Param #   \n",
      "=================================================================\n",
      "input_1 (InputLayer)         (None, 224, 224, 3)       0         \n",
      "_________________________________________________________________\n",
      "conv2d_129 (Conv2D)          (None, 224, 224, 64)      1792      \n",
      "_________________________________________________________________\n",
      "batch_normalization_99 (Batc (None, 224, 224, 64)      256       \n",
      "_________________________________________________________________\n",
      "conv2d_130 (Conv2D)          (None, 224, 224, 64)      36928     \n",
      "_________________________________________________________________\n",
      "batch_normalization_100 (Bat (None, 224, 224, 64)      256       \n",
      "_________________________________________________________________\n",
      "max_pooling2d_35 (MaxPooling (None, 112, 112, 64)      0         \n",
      "_________________________________________________________________\n",
      "conv2d_131 (Conv2D)          (None, 112, 112, 128)     73856     \n",
      "_________________________________________________________________\n",
      "batch_normalization_101 (Bat (None, 112, 112, 128)     512       \n",
      "_________________________________________________________________\n",
      "conv2d_132 (Conv2D)          (None, 112, 112, 128)     147584    \n",
      "_________________________________________________________________\n",
      "batch_normalization_102 (Bat (None, 112, 112, 128)     512       \n",
      "_________________________________________________________________\n",
      "max_pooling2d_36 (MaxPooling (None, 56, 56, 128)       0         \n",
      "_________________________________________________________________\n",
      "conv2d_133 (Conv2D)          (None, 56, 56, 256)       295168    \n",
      "_________________________________________________________________\n",
      "batch_normalization_103 (Bat (None, 56, 56, 256)       1024      \n",
      "_________________________________________________________________\n",
      "conv2d_134 (Conv2D)          (None, 56, 56, 256)       590080    \n",
      "_________________________________________________________________\n",
      "batch_normalization_104 (Bat (None, 56, 56, 256)       1024      \n",
      "_________________________________________________________________\n",
      "conv2d_135 (Conv2D)          (None, 56, 56, 256)       590080    \n",
      "_________________________________________________________________\n",
      "batch_normalization_105 (Bat (None, 56, 56, 256)       1024      \n",
      "_________________________________________________________________\n",
      "max_pooling2d_37 (MaxPooling (None, 28, 28, 256)       0         \n",
      "_________________________________________________________________\n",
      "conv2d_136 (Conv2D)          (None, 28, 28, 512)       1180160   \n",
      "_________________________________________________________________\n",
      "batch_normalization_106 (Bat (None, 28, 28, 512)       2048      \n",
      "_________________________________________________________________\n",
      "conv2d_137 (Conv2D)          (None, 28, 28, 512)       2359808   \n",
      "_________________________________________________________________\n",
      "batch_normalization_107 (Bat (None, 28, 28, 512)       2048      \n",
      "_________________________________________________________________\n",
      "conv2d_138 (Conv2D)          (None, 28, 28, 512)       2359808   \n",
      "_________________________________________________________________\n",
      "batch_normalization_108 (Bat (None, 28, 28, 512)       2048      \n",
      "_________________________________________________________________\n",
      "max_pooling2d_38 (MaxPooling (None, 14, 14, 512)       0         \n",
      "_________________________________________________________________\n",
      "conv2d_139 (Conv2D)          (None, 14, 14, 512)       2359808   \n",
      "_________________________________________________________________\n",
      "batch_normalization_109 (Bat (None, 14, 14, 512)       2048      \n",
      "_________________________________________________________________\n",
      "conv2d_140 (Conv2D)          (None, 14, 14, 512)       2359808   \n",
      "_________________________________________________________________\n",
      "batch_normalization_110 (Bat (None, 14, 14, 512)       2048      \n",
      "_________________________________________________________________\n",
      "conv2d_141 (Conv2D)          (None, 14, 14, 512)       2359808   \n",
      "_________________________________________________________________\n",
      "batch_normalization_111 (Bat (None, 14, 14, 512)       2048      \n",
      "_________________________________________________________________\n",
      "max_pooling2d_39 (MaxPooling (None, 7, 7, 512)         0         \n",
      "_________________________________________________________________\n",
      "conv2d_145 (Conv2D)          (None, 1, 1, 512)         12845568  \n",
      "_________________________________________________________________\n",
      "conv2d_146 (Conv2D)          (None, 1, 1, 1024)        525312    \n",
      "_________________________________________________________________\n",
      "conv2d_147 (Conv2D)          (None, 1, 1, 1)           1025      \n",
      "_________________________________________________________________\n",
      "flatten_7 (Flatten)          (None, 1)                 0         \n",
      "=================================================================\n",
      "Total params: 28,103,489\n",
      "Trainable params: 28,095,041\n",
      "Non-trainable params: 8,448\n",
      "_________________________________________________________________\n",
      "None\n"
     ]
    }
   ],
   "source": [
    "print arch2.summary()"
   ]
  },
  {
   "cell_type": "code",
   "execution_count": null,
   "metadata": {
    "collapsed": true
   },
   "outputs": [],
   "source": []
  }
 ],
 "metadata": {
  "kernelspec": {
   "display_name": "Python 2",
   "language": "python",
   "name": "python2"
  },
  "language_info": {
   "codemirror_mode": {
    "name": "ipython",
    "version": 2
   },
   "file_extension": ".py",
   "mimetype": "text/x-python",
   "name": "python",
   "nbconvert_exporter": "python",
   "pygments_lexer": "ipython2",
   "version": "2.7.12+"
  }
 },
 "nbformat": 4,
 "nbformat_minor": 2
}
