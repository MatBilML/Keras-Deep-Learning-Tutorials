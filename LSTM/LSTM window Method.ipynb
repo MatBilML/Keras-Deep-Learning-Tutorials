{
 "cells": [
  {
   "cell_type": "code",
   "execution_count": 1,
   "metadata": {
    "collapsed": true
   },
   "outputs": [],
   "source": [
    "import pandas"
   ]
  },
  {
   "cell_type": "code",
   "execution_count": 2,
   "metadata": {
    "collapsed": true
   },
   "outputs": [],
   "source": [
    "import matplotlib.pyplot as plt"
   ]
  },
  {
   "cell_type": "code",
   "execution_count": 3,
   "metadata": {
    "collapsed": false
   },
   "outputs": [
    {
     "name": "stderr",
     "output_type": "stream",
     "text": [
      "Using TensorFlow backend.\n"
     ]
    }
   ],
   "source": [
    "from keras.models import Sequential\n",
    "from keras.layers import Dense\n",
    "from keras.layers import LSTM,Input\n",
    "from sklearn.preprocessing import MinMaxScaler\n",
    "from sklearn.metrics import mean_squared_error\n",
    "from keras.models import Model\n",
    "import math"
   ]
  },
  {
   "cell_type": "code",
   "execution_count": 4,
   "metadata": {
    "collapsed": true
   },
   "outputs": [],
   "source": [
    "import numpy as np"
   ]
  },
  {
   "cell_type": "code",
   "execution_count": 5,
   "metadata": {
    "collapsed": true
   },
   "outputs": [],
   "source": [
    "np.random.seed(7)"
   ]
  },
  {
   "cell_type": "code",
   "execution_count": 6,
   "metadata": {
    "collapsed": true
   },
   "outputs": [],
   "source": [
    "dataset = pandas.read_csv('Downloads/international-airline-passengers.csv',usecols=[1],engine='python',skipfooter=3)"
   ]
  },
  {
   "cell_type": "code",
   "execution_count": 7,
   "metadata": {
    "collapsed": true
   },
   "outputs": [],
   "source": [
    "dataset = dataset.values"
   ]
  },
  {
   "cell_type": "code",
   "execution_count": 8,
   "metadata": {
    "collapsed": true
   },
   "outputs": [],
   "source": [
    "dataset = dataset.astype('float32')"
   ]
  },
  {
   "cell_type": "code",
   "execution_count": 9,
   "metadata": {
    "collapsed": true
   },
   "outputs": [],
   "source": [
    "scaler = MinMaxScaler(feature_range=(0,1))"
   ]
  },
  {
   "cell_type": "code",
   "execution_count": 10,
   "metadata": {
    "collapsed": true
   },
   "outputs": [],
   "source": [
    "dataset = scaler.fit_transform(dataset)"
   ]
  },
  {
   "cell_type": "code",
   "execution_count": 11,
   "metadata": {
    "collapsed": false
   },
   "outputs": [
    {
     "name": "stdout",
     "output_type": "stream",
     "text": [
      "(96, 48)\n"
     ]
    }
   ],
   "source": [
    "train_size = int(len(dataset) * 0.67)\n",
    "test_size = len(dataset) - train_size\n",
    "train, test = dataset[0:train_size,:], dataset[train_size:len(dataset),:]\n",
    "print(len(train), len(test))"
   ]
  },
  {
   "cell_type": "code",
   "execution_count": 12,
   "metadata": {
    "collapsed": true
   },
   "outputs": [],
   "source": [
    "def create_dataset(dataset,look_back = 3):\n",
    "    dataX = []\n",
    "    dataY = []\n",
    "    for i in xrange(len(dataset)-look_back-1):\n",
    "        a = dataset[i:(i+look_back),0]\n",
    "        dataX.append(a)\n",
    "        dataY.append(dataset[i+look_back,0])\n",
    "    return np.asarray(dataX),np.asarray(dataY)"
   ]
  },
  {
   "cell_type": "code",
   "execution_count": 13,
   "metadata": {
    "collapsed": true
   },
   "outputs": [],
   "source": [
    "look_back = 3\n",
    "trainX,trainY = create_dataset(train,look_back)\n",
    "testX,testY = create_dataset(test,look_back)"
   ]
  },
  {
   "cell_type": "code",
   "execution_count": 14,
   "metadata": {
    "collapsed": true
   },
   "outputs": [],
   "source": [
    "trainX = np.reshape(trainX,(trainX.shape[0],1,trainX.shape[1]))\n",
    "testX = np.reshape(testX,(testX.shape[0],1,testX.shape[1]))"
   ]
  },
  {
   "cell_type": "code",
   "execution_count": 15,
   "metadata": {
    "collapsed": true
   },
   "outputs": [],
   "source": [
    "input_data = Input(shape = (1,look_back))"
   ]
  },
  {
   "cell_type": "code",
   "execution_count": 16,
   "metadata": {
    "collapsed": true
   },
   "outputs": [],
   "source": [
    "x = LSTM(4)(input_data)"
   ]
  },
  {
   "cell_type": "code",
   "execution_count": 17,
   "metadata": {
    "collapsed": true
   },
   "outputs": [],
   "source": [
    "x = Dense(1)(x)"
   ]
  },
  {
   "cell_type": "code",
   "execution_count": 18,
   "metadata": {
    "collapsed": true
   },
   "outputs": [],
   "source": [
    "output = x"
   ]
  },
  {
   "cell_type": "code",
   "execution_count": 19,
   "metadata": {
    "collapsed": true
   },
   "outputs": [],
   "source": [
    "model = Model(input_data,output)"
   ]
  },
  {
   "cell_type": "code",
   "execution_count": 20,
   "metadata": {
    "collapsed": true
   },
   "outputs": [],
   "source": [
    "model.compile(loss = 'mean_squared_error',optimizer='adam')"
   ]
  },
  {
   "cell_type": "code",
   "execution_count": 21,
   "metadata": {
    "collapsed": false
   },
   "outputs": [
    {
     "name": "stdout",
     "output_type": "stream",
     "text": [
      "Epoch 1/100\n",
      "3s - loss: 0.0542\n",
      "Epoch 2/100\n",
      "0s - loss: 0.0258\n",
      "Epoch 3/100\n",
      "0s - loss: 0.0167\n",
      "Epoch 4/100\n",
      "0s - loss: 0.0145\n",
      "Epoch 5/100\n",
      "0s - loss: 0.0129\n",
      "Epoch 6/100\n",
      "0s - loss: 0.0116\n",
      "Epoch 7/100\n",
      "0s - loss: 0.0105\n",
      "Epoch 8/100\n",
      "0s - loss: 0.0094\n",
      "Epoch 9/100\n",
      "0s - loss: 0.0081\n",
      "Epoch 10/100\n",
      "0s - loss: 0.0074\n",
      "Epoch 11/100\n",
      "0s - loss: 0.0066\n",
      "Epoch 12/100\n",
      "0s - loss: 0.0060\n",
      "Epoch 13/100\n",
      "0s - loss: 0.0056\n",
      "Epoch 14/100\n",
      "0s - loss: 0.0052\n",
      "Epoch 15/100\n",
      "0s - loss: 0.0050\n",
      "Epoch 16/100\n",
      "0s - loss: 0.0049\n",
      "Epoch 17/100\n",
      "0s - loss: 0.0046\n",
      "Epoch 18/100\n",
      "0s - loss: 0.0045\n",
      "Epoch 19/100\n",
      "0s - loss: 0.0045\n",
      "Epoch 20/100\n",
      "0s - loss: 0.0043\n",
      "Epoch 21/100\n",
      "0s - loss: 0.0043\n",
      "Epoch 22/100\n",
      "0s - loss: 0.0042\n",
      "Epoch 23/100\n",
      "0s - loss: 0.0042\n",
      "Epoch 24/100\n",
      "0s - loss: 0.0042\n",
      "Epoch 25/100\n",
      "0s - loss: 0.0040\n",
      "Epoch 26/100\n",
      "0s - loss: 0.0041\n",
      "Epoch 27/100\n",
      "0s - loss: 0.0040\n",
      "Epoch 28/100\n",
      "0s - loss: 0.0040\n",
      "Epoch 29/100\n",
      "0s - loss: 0.0039\n",
      "Epoch 30/100\n",
      "0s - loss: 0.0038\n",
      "Epoch 31/100\n",
      "0s - loss: 0.0038\n",
      "Epoch 32/100\n",
      "0s - loss: 0.0037\n",
      "Epoch 33/100\n",
      "0s - loss: 0.0037\n",
      "Epoch 34/100\n",
      "0s - loss: 0.0037\n",
      "Epoch 35/100\n",
      "0s - loss: 0.0036\n",
      "Epoch 36/100\n",
      "0s - loss: 0.0035\n",
      "Epoch 37/100\n",
      "0s - loss: 0.0036\n",
      "Epoch 38/100\n",
      "0s - loss: 0.0035\n",
      "Epoch 39/100\n",
      "0s - loss: 0.0035\n",
      "Epoch 40/100\n",
      "0s - loss: 0.0034\n",
      "Epoch 41/100\n",
      "0s - loss: 0.0035\n",
      "Epoch 42/100\n",
      "0s - loss: 0.0034\n",
      "Epoch 43/100\n",
      "0s - loss: 0.0033\n",
      "Epoch 44/100\n",
      "0s - loss: 0.0033\n",
      "Epoch 45/100\n",
      "0s - loss: 0.0032\n",
      "Epoch 46/100\n",
      "0s - loss: 0.0034\n",
      "Epoch 47/100\n",
      "0s - loss: 0.0031\n",
      "Epoch 48/100\n",
      "0s - loss: 0.0031\n",
      "Epoch 49/100\n",
      "0s - loss: 0.0031\n",
      "Epoch 50/100\n",
      "0s - loss: 0.0030\n",
      "Epoch 51/100\n",
      "0s - loss: 0.0030\n",
      "Epoch 52/100\n",
      "0s - loss: 0.0029\n",
      "Epoch 53/100\n",
      "0s - loss: 0.0030\n",
      "Epoch 54/100\n",
      "0s - loss: 0.0028\n",
      "Epoch 55/100\n",
      "0s - loss: 0.0028\n",
      "Epoch 56/100\n",
      "0s - loss: 0.0028\n",
      "Epoch 57/100\n",
      "0s - loss: 0.0027\n",
      "Epoch 58/100\n",
      "0s - loss: 0.0028\n",
      "Epoch 59/100\n",
      "0s - loss: 0.0027\n",
      "Epoch 60/100\n",
      "0s - loss: 0.0028\n",
      "Epoch 61/100\n",
      "0s - loss: 0.0027\n",
      "Epoch 62/100\n",
      "0s - loss: 0.0026\n",
      "Epoch 63/100\n",
      "0s - loss: 0.0025\n",
      "Epoch 64/100\n",
      "0s - loss: 0.0028\n",
      "Epoch 65/100\n",
      "0s - loss: 0.0025\n",
      "Epoch 66/100\n",
      "0s - loss: 0.0025\n",
      "Epoch 67/100\n",
      "0s - loss: 0.0024\n",
      "Epoch 68/100\n",
      "0s - loss: 0.0025\n",
      "Epoch 69/100\n",
      "0s - loss: 0.0024\n",
      "Epoch 70/100\n",
      "0s - loss: 0.0024\n",
      "Epoch 71/100\n",
      "0s - loss: 0.0024\n",
      "Epoch 72/100\n",
      "0s - loss: 0.0024\n",
      "Epoch 73/100\n",
      "0s - loss: 0.0024\n",
      "Epoch 74/100\n",
      "0s - loss: 0.0023\n",
      "Epoch 75/100\n",
      "0s - loss: 0.0023\n",
      "Epoch 76/100\n",
      "0s - loss: 0.0023\n",
      "Epoch 77/100\n",
      "0s - loss: 0.0024\n",
      "Epoch 78/100\n",
      "0s - loss: 0.0023\n",
      "Epoch 79/100\n",
      "0s - loss: 0.0023\n",
      "Epoch 80/100\n",
      "0s - loss: 0.0023\n",
      "Epoch 81/100\n",
      "0s - loss: 0.0023\n",
      "Epoch 82/100\n",
      "0s - loss: 0.0022\n",
      "Epoch 83/100\n",
      "0s - loss: 0.0022\n",
      "Epoch 84/100\n",
      "0s - loss: 0.0022\n",
      "Epoch 85/100\n",
      "0s - loss: 0.0022\n",
      "Epoch 86/100\n",
      "0s - loss: 0.0020\n",
      "Epoch 87/100\n",
      "0s - loss: 0.0023\n",
      "Epoch 88/100\n",
      "0s - loss: 0.0021\n",
      "Epoch 89/100\n",
      "0s - loss: 0.0021\n",
      "Epoch 90/100\n",
      "0s - loss: 0.0021\n",
      "Epoch 91/100\n",
      "0s - loss: 0.0021\n",
      "Epoch 92/100\n",
      "0s - loss: 0.0021\n",
      "Epoch 93/100\n",
      "0s - loss: 0.0021\n",
      "Epoch 94/100\n",
      "0s - loss: 0.0021\n",
      "Epoch 95/100\n",
      "0s - loss: 0.0021\n",
      "Epoch 96/100\n",
      "0s - loss: 0.0021\n",
      "Epoch 97/100\n",
      "0s - loss: 0.0021\n",
      "Epoch 98/100\n",
      "0s - loss: 0.0021\n",
      "Epoch 99/100\n",
      "0s - loss: 0.0022\n",
      "Epoch 100/100\n",
      "0s - loss: 0.0020\n"
     ]
    },
    {
     "data": {
      "text/plain": [
       "<keras.callbacks.History at 0x7efb84579a50>"
      ]
     },
     "execution_count": 21,
     "metadata": {},
     "output_type": "execute_result"
    }
   ],
   "source": [
    "model.fit(trainX,trainY,epochs = 100,batch_size=1,verbose = 2)"
   ]
  },
  {
   "cell_type": "code",
   "execution_count": 22,
   "metadata": {
    "collapsed": false
   },
   "outputs": [
    {
     "name": "stdout",
     "output_type": "stream",
     "text": [
      "[[[ 0.01544401  0.02702703  0.05405405]]\n",
      "\n",
      " [[ 0.02702703  0.05405405  0.04826255]]\n",
      "\n",
      " [[ 0.05405405  0.04826255  0.03281853]]\n",
      "\n",
      " [[ 0.04826255  0.03281853  0.05984557]]\n",
      "\n",
      " [[ 0.03281853  0.05984557  0.08494207]]\n",
      "\n",
      " [[ 0.05984557  0.08494207  0.08494207]]\n",
      "\n",
      " [[ 0.08494207  0.08494207  0.06177607]]\n",
      "\n",
      " [[ 0.08494207  0.06177607  0.02895753]]\n",
      "\n",
      " [[ 0.06177607  0.02895753  0.        ]]\n",
      "\n",
      " [[ 0.02895753  0.          0.02702703]]\n",
      "\n",
      " [[ 0.          0.02702703  0.02123553]]\n",
      "\n",
      " [[ 0.02702703  0.02123553  0.04247104]]\n",
      "\n",
      " [[ 0.02123553  0.04247104  0.07142857]]\n",
      "\n",
      " [[ 0.04247104  0.07142857  0.05984557]]\n",
      "\n",
      " [[ 0.07142857  0.05984557  0.04054055]]\n",
      "\n",
      " [[ 0.05984557  0.04054055  0.08687258]]\n",
      "\n",
      " [[ 0.04054055  0.08687258  0.12741312]]\n",
      "\n",
      " [[ 0.08687258  0.12741312  0.12741312]]\n",
      "\n",
      " [[ 0.12741312  0.12741312  0.10424709]]\n",
      "\n",
      " [[ 0.12741312  0.10424709  0.05598456]]\n",
      "\n",
      " [[ 0.10424709  0.05598456  0.01930502]]\n",
      "\n",
      " [[ 0.05598456  0.01930502  0.06949806]]\n",
      "\n",
      " [[ 0.01930502  0.06949806  0.07915059]]\n",
      "\n",
      " [[ 0.06949806  0.07915059  0.08880308]]\n",
      "\n",
      " [[ 0.07915059  0.08880308  0.14285713]]\n",
      "\n",
      " [[ 0.08880308  0.14285713  0.11389962]]\n",
      "\n",
      " [[ 0.14285713  0.11389962  0.13127413]]\n",
      "\n",
      " [[ 0.11389962  0.13127413  0.14285713]]\n",
      "\n",
      " [[ 0.13127413  0.14285713  0.18339768]]\n",
      "\n",
      " [[ 0.14285713  0.18339768  0.18339768]]\n",
      "\n",
      " [[ 0.18339768  0.18339768  0.15444016]]\n",
      "\n",
      " [[ 0.18339768  0.15444016  0.11196911]]\n",
      "\n",
      " [[ 0.15444016  0.11196911  0.08108109]]\n",
      "\n",
      " [[ 0.11196911  0.08108109  0.1196911 ]]\n",
      "\n",
      " [[ 0.08108109  0.1196911   0.12934363]]\n",
      "\n",
      " [[ 0.1196911   0.12934363  0.14671814]]\n",
      "\n",
      " [[ 0.12934363  0.14671814  0.17181468]]\n",
      "\n",
      " [[ 0.14671814  0.17181468  0.14864865]]\n",
      "\n",
      " [[ 0.17181468  0.14864865  0.15250966]]\n",
      "\n",
      " [[ 0.14864865  0.15250966  0.22007722]]\n",
      "\n",
      " [[ 0.15250966  0.22007722  0.24324325]]\n",
      "\n",
      " [[ 0.22007722  0.24324325  0.26640925]]\n",
      "\n",
      " [[ 0.24324325  0.26640925  0.2027027 ]]\n",
      "\n",
      " [[ 0.26640925  0.2027027   0.16795367]]\n",
      "\n",
      " [[ 0.2027027   0.16795367  0.13127413]]\n",
      "\n",
      " [[ 0.16795367  0.13127413  0.17374519]]\n",
      "\n",
      " [[ 0.13127413  0.17374519  0.17760617]]\n",
      "\n",
      " [[ 0.17374519  0.17760617  0.17760617]]\n",
      "\n",
      " [[ 0.17760617  0.17760617  0.25482625]]\n",
      "\n",
      " [[ 0.17760617  0.25482625  0.25289574]]\n",
      "\n",
      " [[ 0.25482625  0.25289574  0.24131274]]\n",
      "\n",
      " [[ 0.25289574  0.24131274  0.26833975]]\n",
      "\n",
      " [[ 0.24131274  0.26833975  0.3088803 ]]\n",
      "\n",
      " [[ 0.26833975  0.3088803   0.32432434]]\n",
      "\n",
      " [[ 0.3088803   0.32432434  0.25675675]]\n",
      "\n",
      " [[ 0.32432434  0.25675675  0.20656371]]\n",
      "\n",
      " [[ 0.25675675  0.20656371  0.14671814]]\n",
      "\n",
      " [[ 0.20656371  0.14671814  0.18725869]]\n",
      "\n",
      " [[ 0.14671814  0.18725869  0.19305018]]\n",
      "\n",
      " [[ 0.18725869  0.19305018  0.16216215]]\n",
      "\n",
      " [[ 0.19305018  0.16216215  0.25289574]]\n",
      "\n",
      " [[ 0.16216215  0.25289574  0.23745173]]\n",
      "\n",
      " [[ 0.25289574  0.23745173  0.25096524]]\n",
      "\n",
      " [[ 0.23745173  0.25096524  0.3088803 ]]\n",
      "\n",
      " [[ 0.25096524  0.3088803   0.38223937]]\n",
      "\n",
      " [[ 0.3088803   0.38223937  0.36486486]]\n",
      "\n",
      " [[ 0.38223937  0.36486486  0.2992278 ]]\n",
      "\n",
      " [[ 0.36486486  0.2992278   0.24131274]]\n",
      "\n",
      " [[ 0.2992278   0.24131274  0.1911197 ]]\n",
      "\n",
      " [[ 0.24131274  0.1911197   0.24131274]]\n",
      "\n",
      " [[ 0.1911197   0.24131274  0.26640925]]\n",
      "\n",
      " [[ 0.24131274  0.26640925  0.24903473]]\n",
      "\n",
      " [[ 0.26640925  0.24903473  0.31467178]]\n",
      "\n",
      " [[ 0.24903473  0.31467178  0.31853279]]\n",
      "\n",
      " [[ 0.31467178  0.31853279  0.32046333]]\n",
      "\n",
      " [[ 0.31853279  0.32046333  0.40733591]]\n",
      "\n",
      " [[ 0.32046333  0.40733591  0.50193048]]\n",
      "\n",
      " [[ 0.40733591  0.50193048  0.46911195]]\n",
      "\n",
      " [[ 0.50193048  0.46911195  0.40154442]]\n",
      "\n",
      " [[ 0.46911195  0.40154442  0.32818535]]\n",
      "\n",
      " [[ 0.40154442  0.32818535  0.25675675]]\n",
      "\n",
      " [[ 0.32818535  0.25675675  0.33590731]]\n",
      "\n",
      " [[ 0.25675675  0.33590731  0.34749034]]\n",
      "\n",
      " [[ 0.33590731  0.34749034  0.33397684]]\n",
      "\n",
      " [[ 0.34749034  0.33397684  0.41119692]]\n",
      "\n",
      " [[ 0.33397684  0.41119692  0.4034749 ]]\n",
      "\n",
      " [[ 0.41119692  0.4034749   0.41312739]]\n",
      "\n",
      " [[ 0.4034749   0.41312739  0.52123547]]\n",
      "\n",
      " [[ 0.41312739  0.52123547  0.59652507]]\n",
      "\n",
      " [[ 0.52123547  0.59652507  0.58108103]]\n",
      "\n",
      " [[ 0.59652507  0.58108103  0.48455599]]\n",
      "\n",
      " [[ 0.58108103  0.48455599  0.38996139]]]\n"
     ]
    }
   ],
   "source": [
    "print trainX"
   ]
  },
  {
   "cell_type": "code",
   "execution_count": null,
   "metadata": {
    "collapsed": true
   },
   "outputs": [],
   "source": []
  }
 ],
 "metadata": {
  "kernelspec": {
   "display_name": "Python 2",
   "language": "python",
   "name": "python2"
  },
  "language_info": {
   "codemirror_mode": {
    "name": "ipython",
    "version": 2
   },
   "file_extension": ".py",
   "mimetype": "text/x-python",
   "name": "python",
   "nbconvert_exporter": "python",
   "pygments_lexer": "ipython2",
   "version": "2.7.12+"
  }
 },
 "nbformat": 4,
 "nbformat_minor": 2
}
